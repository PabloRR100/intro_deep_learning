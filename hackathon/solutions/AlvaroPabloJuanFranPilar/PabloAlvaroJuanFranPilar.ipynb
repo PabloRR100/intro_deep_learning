{
  "cells": [
    {
      "cell_type": "markdown",
      "metadata": {
        "id": "1KiCqI400A3-"
      },
      "source": [
        "<a href=\"https://colab.research.google.com/github/PabloRR100/intro_deep_learning/blob/main/hackathon/notebook/template.ipynb\" target=\"_parent\"><img src=\"https://colab.research.google.com/assets/colab-badge.svg\" alt=\"Open In Colab\"/></a>"
      ]
    },
    {
      "cell_type": "markdown",
      "metadata": {
        "id": "jlYieMeX0A3-"
      },
      "source": [
        "# 1. Similarity Engine\n",
        "\n",
        "Build a similarity engine using pre-trained compute vision models"
      ]
    },
    {
      "cell_type": "code",
      "execution_count": 293,
      "metadata": {
        "colab": {
          "base_uri": "https://localhost:8080/"
        },
        "id": "GoOFhk3019db",
        "outputId": "b7360faf-e763-49e1-f8c9-4e6822ff774f"
      },
      "outputs": [
        {
          "output_type": "stream",
          "name": "stdout",
          "text": [
            "Drive already mounted at /content/drive; to attempt to forcibly remount, call drive.mount(\"/content/drive\", force_remount=True).\n"
          ]
        }
      ],
      "source": [
        "from google.colab import drive\n",
        "drive.mount('/content/drive')"
      ]
    },
    {
      "cell_type": "code",
      "source": [
        "!ls \"/content/drive/MyDrive/MasterPokemos\""
      ],
      "metadata": {
        "id": "FMnThN4nPnhW",
        "outputId": "025962e9-8f45-42ec-d33f-4760aa0bf105",
        "colab": {
          "base_uri": "https://localhost:8080/"
        }
      },
      "execution_count": 294,
      "outputs": [
        {
          "output_type": "stream",
          "name": "stdout",
          "text": [
            "db  embeddings.pickle  testing\n"
          ]
        }
      ]
    },
    {
      "cell_type": "code",
      "execution_count": 295,
      "metadata": {
        "id": "duRPqlxr3bQ9"
      },
      "outputs": [],
      "source": [
        "# !unzip \"/content/drive/MyDrive/Clases DL - UCM/Pablo/data.zip\" -d /content/"
      ]
    },
    {
      "cell_type": "code",
      "execution_count": 296,
      "metadata": {
        "id": "j-KrvD2Y2MNf"
      },
      "outputs": [],
      "source": [
        "# !ls \"/content/data/database\"Ç"
      ]
    },
    {
      "cell_type": "code",
      "execution_count": 297,
      "metadata": {
        "id": "xT2CehHC0A3_"
      },
      "outputs": [],
      "source": [
        "import os\n",
        "import torch\n",
        "from PIL import Image as PILImage\n",
        "from huggingface_hub import hf_hub_download, from_pretrained_keras\n",
        "import tensorflow as tf\n",
        "import numpy as np\n",
        "import pickle\n",
        "from pathlib import Path"
      ]
    },
    {
      "cell_type": "markdown",
      "source": [
        "https://huggingface.co/timm/mobilenetv3_small_100.lamb_in1k"
      ],
      "metadata": {
        "id": "URV6nU7aRGh6"
      }
    },
    {
      "cell_type": "code",
      "source": [
        "import timm\n"
      ],
      "metadata": {
        "id": "D9Sl_BSXRAes"
      },
      "execution_count": 298,
      "outputs": []
    },
    {
      "cell_type": "code",
      "execution_count": 299,
      "metadata": {
        "id": "faldV_Bb0A3_"
      },
      "outputs": [],
      "source": [
        "# --- 1. Load Pretrained Model (Feature Extractor) ---\n",
        "def get_model():\n",
        "  return timm.create_model('mobilenetv3_small_100.lamb_in1k', pretrained=True)"
      ]
    },
    {
      "cell_type": "code",
      "source": [
        "model = get_model()"
      ],
      "metadata": {
        "id": "6xNkxWElQjfM"
      },
      "execution_count": 300,
      "outputs": []
    },
    {
      "cell_type": "code",
      "execution_count": 301,
      "metadata": {
        "id": "rXwnbJQg0A3_"
      },
      "outputs": [],
      "source": [
        "# --- 2. Compute Embedding for a Single Image ---\n",
        "def get_embedding(model, img_path):\n",
        "  img = PILImage.open(img_path)\n",
        "  if img.mode =='RGBA':\n",
        "    img = img.convert('RGB')\n",
        "  elif img.mode =='L':\n",
        "    img = img.convert('RGB')\n",
        "  elif img.mode =='P':\n",
        "    img = img.convert('RGB')\n",
        "  # print(img.mode)\n",
        "\n",
        "  model.eval()\n",
        "  data_config = timm.data.resolve_model_data_config(model)\n",
        "  transforms = timm.data.create_transform(**data_config, is_training=False)\n",
        "  return model(transforms(img).unsqueeze(0))"
      ]
    },
    {
      "cell_type": "code",
      "source": [
        "# print(get_embedding(model,'/content/drive/MyDrive/MasterPokemos/bulbasaur/bulbasaur_1.jpeg' ))"
      ],
      "metadata": {
        "id": "WzBdl8dZSKyM"
      },
      "execution_count": 302,
      "outputs": []
    },
    {
      "cell_type": "code",
      "source": [
        "def calcular_centroides(embeddings):\n",
        "  for label, embeddings_list in embeddings.items():\n",
        "    centroid = torch.zeros_like(embeddings_list[0][\"embedding\"])\n",
        "    for item in embeddings_list:\n",
        "      centroid += item[\"embedding\"]\n",
        "    centroid /= len(embeddings_list)\n",
        "  return centroid"
      ],
      "metadata": {
        "id": "y0WKBfUNtMYx"
      },
      "execution_count": 303,
      "outputs": []
    },
    {
      "cell_type": "code",
      "execution_count": 304,
      "metadata": {
        "id": "-InrgNUb-YzX"
      },
      "outputs": [],
      "source": [
        "# --- 3. Walk Dataset Folder & Compute All Embeddings ---\n",
        "def compute_embeddings(\n",
        "    model: torch.nn.Module,\n",
        "    data_root: str | os.PathLike,\n",
        "):\n",
        "    \"\"\"\n",
        "    Compute embeddings for all images in the dataset and store them in a dictionary\n",
        "    where each Pokemon has a list of embeddings.\n",
        "\n",
        "    Args:\n",
        "        model: The feature extraction model\n",
        "        data_root: Root directory containing Pokemon class folders\n",
        "\n",
        "    Returns:\n",
        "        Dictionary mapping Pokemon names to lists of embeddings\n",
        "\n",
        "    Example:\n",
        "    ```\n",
        "    {\n",
        "        \"label\": pokemon_name,\n",
        "        \"img_path\": img_path,\n",
        "        \"embedding\": emb,\n",
        "    }\n",
        "    ```\n",
        "    \"\"\"\n",
        "    model.eval()\n",
        "    results= {}\n",
        "    for label in os.listdir(data_root):\n",
        "      label_path = os.path.join(data_root, label)\n",
        "      if os.path.isdir(label_path): # Check if it's a directory\n",
        "        results[label] = []\n",
        "        for img_name in os.listdir(label_path):\n",
        "          img_path = os.path.join(label_path, img_name)\n",
        "          if os.path.isfile(img_path): # Check if it's a file\n",
        "            print(f\"Processing: {img_path}\")\n",
        "            embedding = get_embedding(model, img_path)\n",
        "            # results({\"label\": label, \"img_path\": img_path, \"embedding\": embedding})\n",
        "            results[label].append({\"label\": label, \"img_path\": img_path, \"embedding\": embedding})\n",
        "    return results"
      ]
    },
    {
      "cell_type": "code",
      "source": [
        "embeddings = compute_embeddings(model,'/content/drive/MyDrive/MasterPokemos/db')"
      ],
      "metadata": {
        "id": "PxkdDO-JT8Bk",
        "outputId": "29da0b66-a755-402e-9e2c-f969e0d9a68f",
        "colab": {
          "base_uri": "https://localhost:8080/"
        }
      },
      "execution_count": 305,
      "outputs": [
        {
          "output_type": "stream",
          "name": "stdout",
          "text": [
            "Processing: /content/drive/MyDrive/MasterPokemos/db/bulbasaur/bulbasaur_1.jpeg\n",
            "Processing: /content/drive/MyDrive/MasterPokemos/db/bulbasaur/xzc.png\n",
            "Processing: /content/drive/MyDrive/MasterPokemos/db/bulbasaur/s.png\n",
            "Processing: /content/drive/MyDrive/MasterPokemos/db/bulbasaur/00000153.jpg\n",
            "Processing: /content/drive/MyDrive/MasterPokemos/db/bulbasaur/00000237.jpg\n",
            "Processing: /content/drive/MyDrive/MasterPokemos/db/bulbasaur/00000240.jpg\n",
            "Processing: /content/drive/MyDrive/MasterPokemos/db/bulbasaur/00000158.png\n",
            "Processing: /content/drive/MyDrive/MasterPokemos/db/bulbasaur/00000157.png\n",
            "Processing: /content/drive/MyDrive/MasterPokemos/db/bulbasaur/00000155.gif\n",
            "Processing: /content/drive/MyDrive/MasterPokemos/db/charmander/charmander.jpeg\n",
            "Processing: /content/drive/MyDrive/MasterPokemos/db/charmander/00000001.jpg\n",
            "Processing: /content/drive/MyDrive/MasterPokemos/db/charmander/0e2fe299821445639dc97b6fdef415be.jpg\n",
            "Processing: /content/drive/MyDrive/MasterPokemos/db/charmander/0aaf393c1c214369a0f5a8984b34afdb.jpg\n",
            "Processing: /content/drive/MyDrive/MasterPokemos/db/charmander/0f96623f13b8436d9a441b14038f10e8.jpg\n",
            "Processing: /content/drive/MyDrive/MasterPokemos/db/charmander/00000000.png\n",
            "Processing: /content/drive/MyDrive/MasterPokemos/db/charmander/3.png\n",
            "Processing: /content/drive/MyDrive/MasterPokemos/db/charmander/00000001.png\n",
            "Processing: /content/drive/MyDrive/MasterPokemos/db/charmander/00000003.png\n",
            "Processing: /content/drive/MyDrive/MasterPokemos/db/squirtle/squirtle_1.jpeg\n",
            "Processing: /content/drive/MyDrive/MasterPokemos/db/squirtle/00000000.png\n",
            "Processing: /content/drive/MyDrive/MasterPokemos/db/squirtle/00000003.png\n",
            "Processing: /content/drive/MyDrive/MasterPokemos/db/squirtle/00000002.png\n",
            "Processing: /content/drive/MyDrive/MasterPokemos/db/squirtle/1debff5538d7402188a3808bf07e6351.jpg\n",
            "Processing: /content/drive/MyDrive/MasterPokemos/db/squirtle/00000002.jpg\n",
            "Processing: /content/drive/MyDrive/MasterPokemos/db/squirtle/00000001.png\n",
            "Processing: /content/drive/MyDrive/MasterPokemos/db/squirtle/00000001.jpg\n",
            "Processing: /content/drive/MyDrive/MasterPokemos/db/squirtle/0.png\n",
            "Processing: /content/drive/MyDrive/MasterPokemos/db/squirtle/3.png\n"
          ]
        }
      ]
    },
    {
      "cell_type": "code",
      "execution_count": 306,
      "metadata": {
        "id": "2apovUm5--x3"
      },
      "outputs": [],
      "source": [
        "def export_embeddings_to_pickle(embeddings, path):\n",
        "  with open(path, 'wb') as handle:\n",
        "    pickle.dump(embeddings, handle, protocol=pickle.HIGHEST_PROTOCOL)"
      ]
    },
    {
      "cell_type": "code",
      "execution_count": 307,
      "metadata": {
        "id": "iVKroB4P0A3_"
      },
      "outputs": [],
      "source": [
        "def load_embeddings_from_pickle(path):\n",
        "  with open(path, 'rb') as handle:\n",
        "    embeddings = pickle.load(handle)\n",
        "  return embeddings"
      ]
    },
    {
      "cell_type": "code",
      "source": [
        "export_embeddings_to_pickle(embeddings, '/content/drive/MyDrive/MasterPokemos/embeddings.pickle')\n",
        "# embeddings = load_embeddings_from_pickle('/content/drive/MyDrive/MasterPokemos/embeddings.pickle')\n",
        "# embedding_test"
      ],
      "metadata": {
        "id": "ENQBmOQ8fUU9"
      },
      "execution_count": 308,
      "outputs": []
    },
    {
      "cell_type": "code",
      "source": [
        "def compute_similarity_for_image(img_path, expected_label, model, db):\n",
        "    \"\"\"\n",
        "    Compute similarity scores between a test image and all database embeddings.\n",
        "    Return\n",
        "\n",
        "    Args:\n",
        "        img_path: Path to the test image\n",
        "        expected_label: Expected Pokemon label for the test image\n",
        "        model: CNN/ViT model for feature extraction\n",
        "        db: Database of Pokemon embeddings (loaded pickle)\n",
        "\n",
        "    Example output:\n",
        "    ```\n",
        "    Expected: bulbasaur\n",
        "    Top matches:\n",
        "      bulbasaur    → similarity: 0.7646\n",
        "      charmander   → similarity: 0.7179\n",
        "      squirtle     → similarity: 0.7161\n",
        "    ```\n",
        "    \"\"\""
      ],
      "metadata": {
        "id": "GbOBGtucs4Kb"
      },
      "execution_count": 309,
      "outputs": []
    },
    {
      "cell_type": "code",
      "execution_count": 336,
      "metadata": {
        "id": "wh5rBPRC0A4A"
      },
      "outputs": [],
      "source": [
        "# --- Single Image Similarity ---\n",
        "def compute_similarity_for_image(img_path, expected_label, model, db):\n",
        "    \"\"\"\n",
        "    Compute similarity scores between a test image and all database embeddings.\n",
        "    Return\n",
        "\n",
        "    Args:\n",
        "        img_path: Path to the test image\n",
        "        expected_label: Expected Pokemon label for the test image\n",
        "        model: CNN/ViT model for feature extraction\n",
        "        db: Database of Pokemon embeddings (loaded pickle)\n",
        "\n",
        "    Example output:\n",
        "    ```\n",
        "    Expected: bulbasaur\n",
        "    Top matches:\n",
        "      bulbasaur    → similarity: 0.7646\n",
        "      charmander   → similarity: 0.7179\n",
        "      squirtle     → similarity: 0.7161\n",
        "    ```\n",
        "    \"\"\"\n",
        "    print(f\"\\n🔍 Testing image: {img_path}\")\n",
        "    test_emb = get_embedding(model, img_path)\n",
        "    similarity_results = []\n",
        "    for label, embeddings_list in db.items():\n",
        "        for item in embeddings_list:\n",
        "            db_emb = item[\"embedding\"]\n",
        "            sim_score = cosine_similarity(test_emb, db_emb)\n",
        "            similarity_results.append({\n",
        "                \"label\": item[\"label\"],\n",
        "                \"img_path\": item[\"img_path\"],\n",
        "                \"similarity\": sim_score\n",
        "            })\n",
        "\n",
        "    # por cada label, hacemos media de similarity\n",
        "    # Calcular la similitud promedio por cada etiqueta\n",
        "    average_similarities = {}\n",
        "    label_counts = {}\n",
        "\n",
        "    for result in similarity_results:\n",
        "        label = result[\"label\"]\n",
        "        similarity = result[\"similarity\"]\n",
        "\n",
        "        if label not in average_similarities:\n",
        "            average_similarities[label] = 0.0\n",
        "            label_counts[label] = 0\n",
        "\n",
        "        average_similarities[label] += similarity\n",
        "        label_counts[label] += 1\n",
        "\n",
        "    # Calcular el promedio final\n",
        "    for label in average_similarities:\n",
        "        if label_counts[label] > 0:\n",
        "            average_similarities[label] /= label_counts[label]\n",
        "\n",
        "    # Ordenar los promedios de similitud por etiqueta\n",
        "    sorted_average_similarities = sorted(average_similarities.items(), key=lambda item: item[1], reverse=True)\n",
        "\n",
        "    print(f\"Expected: {expected_label}\")\n",
        "    print(\"Top matches:\")\n",
        "\n",
        "    for i, result in enumerate(sorted_average_similarities[:5]): # Displaying top 5 matches\n",
        "        print(f\"  {result[0]:<12s} → similarity: {result[1]:.4f}\")\n",
        ""
      ]
    },
    {
      "cell_type": "code",
      "source": [
        "compute_similarity_for_image(\"/content/drive/MyDrive/MasterPokemos/testing/squirtle/squirtle_1.jpeg\", \"squirtle\", model, embeddings)"
      ],
      "metadata": {
        "id": "If67OOTKgEs-",
        "outputId": "2439860f-7346-4c1c-e4e3-ebb16e3fe8e2",
        "colab": {
          "base_uri": "https://localhost:8080/"
        }
      },
      "execution_count": 337,
      "outputs": [
        {
          "output_type": "stream",
          "name": "stdout",
          "text": [
            "\n",
            "🔍 Testing image: /content/drive/MyDrive/MasterPokemos/testing/squirtle/squirtle_1.jpeg\n",
            "Expected: squirtle\n",
            "Top matches:\n",
            "  squirtle     → similarity: 0.9030\n",
            "  bulbasaur    → similarity: 0.8811\n",
            "  charmander   → similarity: 0.8699\n"
          ]
        }
      ]
    },
    {
      "cell_type": "code",
      "execution_count": 338,
      "metadata": {
        "id": "GrPoDDto0A4A"
      },
      "outputs": [],
      "source": [
        "# --- Dataset Loop ---\n",
        "def compute_similarity_for_dataset(test_dir, db_path):\n",
        "    \"\"\"\n",
        "    Compute similarity scores for all images in the test dataset.\n",
        "\n",
        "    Args:\n",
        "        test_dir: Directory containing test images organized by Pokemon\n",
        "        db_path: Path to the pickle file containing database embeddings\n",
        "    \"\"\"\n",
        "    db_embeddings = load_embeddings_from_pickle(db_path)\n",
        "    # print(db_embeddings)\n",
        "    processed_count = 0\n",
        "    for root, _, files in os.walk(test_dir):\n",
        "        expected_label = os.path.basename(root)\n",
        "        if root != test_dir:\n",
        "            for file in files:\n",
        "                # Check if the file is an image (you might want a more robust check)\n",
        "\n",
        "                img_path = os.path.join(root, file)\n",
        "                similarity_results = compute_similarity_for_image(img_path, expected_label, model, db_embeddings)\n",
        "                print(similarity_results)\n",
        "\n"
      ]
    },
    {
      "cell_type": "code",
      "execution_count": 339,
      "metadata": {
        "id": "JwuD9cKW0A4A",
        "outputId": "3f27bb7b-013c-4d89-8470-53e27e27fffd",
        "colab": {
          "base_uri": "https://localhost:8080/"
        }
      },
      "outputs": [
        {
          "output_type": "stream",
          "name": "stdout",
          "text": [
            "\n",
            "🔍 Testing image: /content/drive/MyDrive/MasterPokemos/testing/bulbasaur/bulbasaur_1.jpeg\n",
            "Expected: bulbasaur\n",
            "Top matches:\n",
            "  bulbasaur    → similarity: 0.8852\n",
            "  charmander   → similarity: 0.8737\n",
            "  squirtle     → similarity: 0.8565\n",
            "None\n",
            "\n",
            "🔍 Testing image: /content/drive/MyDrive/MasterPokemos/testing/squirtle/squirtle_1.jpeg\n",
            "Expected: squirtle\n",
            "Top matches:\n",
            "  squirtle     → similarity: 0.9030\n",
            "  bulbasaur    → similarity: 0.8811\n",
            "  charmander   → similarity: 0.8699\n",
            "None\n",
            "\n",
            "🔍 Testing image: /content/drive/MyDrive/MasterPokemos/testing/charmander/charmander.jpeg\n",
            "Expected: charmander\n",
            "Top matches:\n",
            "  charmander   → similarity: 0.9004\n",
            "  squirtle     → similarity: 0.8811\n",
            "  bulbasaur    → similarity: 0.8801\n",
            "None\n"
          ]
        }
      ],
      "source": [
        "compute_similarity_for_dataset(\n",
        "    test_dir='/content/drive/MyDrive/MasterPokemos/testing/',\n",
        "    db_path='/content/drive/MyDrive/MasterPokemos/embeddings.pickle',\n",
        ")"
      ]
    },
    {
      "cell_type": "markdown",
      "metadata": {
        "id": "O-n7GONY0A4A"
      },
      "source": [
        "### Compute Metrics\n",
        "- Add 3 more pokemon pictures for each pokemon in the testing folder.\n",
        "- Compute the classification accuracy for each Pokemon"
      ]
    },
    {
      "cell_type": "markdown",
      "metadata": {
        "id": "IO3j4ivgPWMx"
      },
      "source": []
    }
  ],
  "metadata": {
    "colab": {
      "provenance": [],
      "gpuType": "T4"
    },
    "kernelspec": {
      "display_name": "Python 3",
      "name": "python3"
    },
    "language_info": {
      "codemirror_mode": {
        "name": "ipython",
        "version": 3
      },
      "file_extension": ".py",
      "mimetype": "text/x-python",
      "name": "python",
      "nbconvert_exporter": "python",
      "pygments_lexer": "ipython3",
      "version": "3.11.9"
    },
    "accelerator": "GPU"
  },
  "nbformat": 4,
  "nbformat_minor": 0
}