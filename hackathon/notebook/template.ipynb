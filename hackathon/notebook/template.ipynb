{
  "cells": [
    {
      "cell_type": "markdown",
      "metadata": {
        "id": "1KiCqI400A3-"
      },
      "source": [
        "<a href=\"https://colab.research.google.com/github/PilarAriasVazquez/intro_deep_learning/blob/main/hackathon/notebook/template.ipynb\" target=\"_parent\"><img src=\"https://colab.research.google.com/assets/colab-badge.svg\" alt=\"Open In Colab\"/></a>"
      ]
    },
    {
      "cell_type": "markdown",
      "metadata": {
        "id": "jlYieMeX0A3-"
      },
      "source": [
        "# 1. Similarity Engine\n",
        "\n",
        "Build a similarity engine using pre-trained compute vision models"
      ]
    },
    {
      "cell_type": "code",
      "execution_count": 2,
      "metadata": {
        "colab": {
          "base_uri": "https://localhost:8080/"
        },
        "id": "GoOFhk3019db",
        "outputId": "50cd850a-a536-4813-b93b-0ece0b66eeeb"
      },
      "outputs": [
        {
          "name": "stdout",
          "output_type": "stream",
          "text": [
            "Drive already mounted at /content/drive; to attempt to forcibly remount, call drive.mount(\"/content/drive\", force_remount=True).\n",
            "MyDrive  Othercomputers\n"
          ]
        }
      ],
      "source": [
        "from google.colab import drive\n",
        "drive.mount('/content/drive')"
      ]
    },
    {
      "cell_type": "code",
      "execution_count": 6,
      "metadata": {
        "colab": {
          "base_uri": "https://localhost:8080/"
        },
        "id": "yV2woo152K-X",
        "outputId": "a515ecd1-ad27-4157-b270-56f972dc777e"
      },
      "outputs": [
        {
          "name": "stdout",
          "output_type": "stream",
          "text": [
            "'01 - Intro to DL.gslides'\t      '05 - HuggingFace.gslides'\n",
            "'02 - Intro to CNN.gslides'\t      'Copia de RNN.gslides'\n",
            "'03 - CNN Applications (v3).gslides'  'Copia de RNN II: NLP.gslides'\n",
            "'03 - Vision Transformers.gslides'     data.zip\n",
            "'04 - Multi-Modal.gslides'\n"
          ]
        }
      ],
      "source": [
        "!ls \"/content/drive/MyDrive/Clases DL - UCM/Pablo\""
      ]
    },
    {
      "cell_type": "code",
      "execution_count": 7,
      "metadata": {
        "colab": {
          "base_uri": "https://localhost:8080/"
        },
        "id": "duRPqlxr3bQ9",
        "outputId": "ee991b34-48ec-4b2c-e5eb-243ec241cbfa"
      },
      "outputs": [
        {
          "name": "stdout",
          "output_type": "stream",
          "text": [
            "Archive:  /content/drive/MyDrive/Clases DL - UCM/Pablo/data.zip\n",
            "   creating: /content/data/\n",
            "   creating: /content/data/database/\n",
            "  inflating: /content/data/.DS_Store  \n",
            "  inflating: /content/__MACOSX/data/._.DS_Store  \n",
            "   creating: /content/data/testing/\n",
            "   creating: /content/data/database/squirtle/\n",
            "   creating: /content/data/database/charmander/\n",
            "   creating: /content/data/database/bulbasaur/\n",
            "   creating: /content/data/testing/squirtle/\n",
            "   creating: /content/data/testing/charmander/\n",
            "   creating: /content/data/testing/bulbasaur/\n",
            "  inflating: /content/data/database/squirtle/squirtle_1.jpeg  \n",
            "  inflating: /content/data/database/charmander/charmander.jpeg  \n",
            "  inflating: /content/data/database/bulbasaur/bulbasaur_1.jpeg  \n",
            "  inflating: /content/data/testing/squirtle/squirtle_1.jpeg  \n",
            "  inflating: /content/data/testing/charmander/charmander.jpeg  \n",
            "  inflating: /content/data/testing/bulbasaur/bulbasaur_1.jpeg  \n"
          ]
        }
      ],
      "source": [
        "!unzip \"/content/drive/MyDrive/Clases DL - UCM/Pablo/data.zip\" -d /content/"
      ]
    },
    {
      "cell_type": "code",
      "execution_count": 12,
      "metadata": {
        "colab": {
          "base_uri": "https://localhost:8080/"
        },
        "id": "j-KrvD2Y2MNf",
        "outputId": "f56a6998-c1d7-42d7-c2eb-76abaf14b4f1"
      },
      "outputs": [
        {
          "name": "stdout",
          "output_type": "stream",
          "text": [
            "bulbasaur  charmander  squirtle\n"
          ]
        }
      ],
      "source": [
        "!ls \"/content/data/database\""
      ]
    },
    {
      "cell_type": "code",
      "execution_count": 13,
      "metadata": {
        "id": "xT2CehHC0A3_"
      },
      "outputs": [],
      "source": [
        "import os\n",
        "import torch"
      ]
    },
    {
      "cell_type": "code",
      "execution_count": 14,
      "metadata": {
        "id": "faldV_Bb0A3_"
      },
      "outputs": [],
      "source": [
        "# --- 1. Load Pretrained Model (Feature Extractor) ---\n",
        "def get_model():\n",
        "    pass"
      ]
    },
    {
      "cell_type": "code",
      "execution_count": 15,
      "metadata": {
        "id": "rXwnbJQg0A3_"
      },
      "outputs": [],
      "source": [
        "# --- 2. Compute Embedding for a Single Image ---\n",
        "def get_embedding(model, img_path):\n",
        "    pass"
      ]
    },
    {
      "cell_type": "code",
      "execution_count": 16,
      "metadata": {
        "id": "-InrgNUb-YzX"
      },
      "outputs": [],
      "source": [
        "# --- 3. Walk Dataset Folder & Compute All Embeddings ---\n",
        "def compute_embeddings(\n",
        "    model: torch.nn.Module,\n",
        "    data_root: str | os.PathLike,\n",
        "):\n",
        "    \"\"\"\n",
        "    Compute embeddings for all images in the dataset and store them in a dictionary\n",
        "    where each Pokemon has a list of embeddings.\n",
        "\n",
        "    Args:\n",
        "        model: The feature extraction model\n",
        "        data_root: Root directory containing Pokemon class folders\n",
        "\n",
        "    Returns:\n",
        "        Dictionary mapping Pokemon names to lists of embeddings\n",
        "\n",
        "    Example:\n",
        "    ```\n",
        "    {\n",
        "        \"label\": pokemon_name,\n",
        "        \"img_path\": img_path,\n",
        "        \"embedding\": emb,\n",
        "    }\n",
        "    ```\n",
        "    \"\"\"\n",
        "    pass"
      ]
    },
    {
      "cell_type": "code",
      "execution_count": null,
      "metadata": {
        "id": "2apovUm5--x3"
      },
      "outputs": [],
      "source": [
        "#\n",
        "def export_embeddings_to_pickle(embeddings, path):\n",
        "    pass"
      ]
    },
    {
      "cell_type": "code",
      "execution_count": null,
      "metadata": {
        "id": "iVKroB4P0A3_"
      },
      "outputs": [],
      "source": [
        "def load_embeddings_from_pickle(path):\n",
        "    pass"
      ]
    },
    {
      "cell_type": "code",
      "execution_count": null,
      "metadata": {
        "id": "ODTz_SSs0A4A"
      },
      "outputs": [],
      "source": [
        "# --- Cosine Similarity ---\n",
        "def cosine_similarity(a, b):\n",
        "    \"\"\"\n",
        "    Compute cosine similarity between two vectors.\n",
        "    \"\"\"\n",
        "    pass"
      ]
    },
    {
      "cell_type": "code",
      "execution_count": null,
      "metadata": {
        "id": "wh5rBPRC0A4A"
      },
      "outputs": [],
      "source": [
        "# --- Single Image Similarity ---\n",
        "def compute_similarity_for_image(img_path, expected_label, model, db):\n",
        "    \"\"\"\n",
        "    Compute similarity scores between a test image and all database embeddings.\n",
        "    Return\n",
        "\n",
        "    Args:\n",
        "        img_path: Path to the test image\n",
        "        expected_label: Expected Pokemon label for the test image\n",
        "        model: CNN/ViT model for feature extraction\n",
        "        db: Database of Pokemon embeddings (loaded pickle)\n",
        "\n",
        "    Example output:\n",
        "    ```\n",
        "    Expected: bulbasaur\n",
        "    Top matches:\n",
        "      bulbasaur    → similarity: 0.7646\n",
        "      charmander   → similarity: 0.7179\n",
        "      squirtle     → similarity: 0.7161\n",
        "    ```\n",
        "    \"\"\"\n",
        "    print(f\"\\n🔍 Testing image: {img_path}\")\n",
        "    # Generate embedding for the test image\n",
        "    test_emb = get_embedding(model, img_path)\n",
        "\n",
        "    # Compute similarities with all database entries\n",
        "\n",
        "    # Sort by similarity, descending\n",
        "\n",
        "    # Display results\n",
        "    print(f\"Expected: {expected_label}\")\n",
        "    print(\"Top matches:\")"
      ]
    },
    {
      "cell_type": "code",
      "execution_count": null,
      "metadata": {
        "id": "GrPoDDto0A4A"
      },
      "outputs": [],
      "source": [
        "# --- Dataset Loop ---\n",
        "def compute_similarity_for_dataset(test_dir, db_path):\n",
        "    \"\"\"\n",
        "    Compute similarity scores for all images in the test dataset.\n",
        "\n",
        "    Args:\n",
        "        test_dir: Directory containing test images organized by Pokemon\n",
        "        db_path: Path to the pickle file containing database embeddings\n",
        "    \"\"\""
      ]
    },
    {
      "cell_type": "code",
      "execution_count": null,
      "metadata": {
        "id": "JwuD9cKW0A4A"
      },
      "outputs": [],
      "source": [
        "compute_similarity_for_dataset(\n",
        "    test_dir=..,\n",
        "    db_path=...,\n",
        ")"
      ]
    },
    {
      "cell_type": "markdown",
      "metadata": {
        "id": "O-n7GONY0A4A"
      },
      "source": [
        "### Compute Metrics\n",
        "- Add 3 more pokemon pictures for each pokemon in the testing folder. \n",
        "- Compute the classification accuracy for each Pokemon"
      ]
    },
    {
      "cell_type": "markdown",
      "metadata": {},
      "source": []
    }
  ],
  "metadata": {
    "colab": {
      "provenance": [],
      "toc_visible": true
    },
    "kernelspec": {
      "display_name": ".venv",
      "language": "python",
      "name": "python3"
    },
    "language_info": {
      "codemirror_mode": {
        "name": "ipython",
        "version": 3
      },
      "file_extension": ".py",
      "mimetype": "text/x-python",
      "name": "python",
      "nbconvert_exporter": "python",
      "pygments_lexer": "ipython3",
      "version": "3.11.9"
    }
  },
  "nbformat": 4,
  "nbformat_minor": 0
}
